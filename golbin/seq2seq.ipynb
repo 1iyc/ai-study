{
 "cells": [
  {
   "cell_type": "code",
   "execution_count": 1,
   "metadata": {},
   "outputs": [],
   "source": [
    "import tensorflow as tf\n",
    "import numpy as np"
   ]
  },
  {
   "cell_type": "code",
   "execution_count": 2,
   "metadata": {},
   "outputs": [
    {
     "name": "stdout",
     "output_type": "stream",
     "text": [
      "['S', 'E', 'P', 'a', 'b', 'c', 'd', 'e', 'f', 'g', 'h', 'i', 'j', 'k', 'l', 'm', 'n', 'o', 'p', 'q', 'r', 's', 't', 'u', 'v', 'w', 'x', 'y', 'z', '단', '어', '나', '무', '놀', '이', '소', '녀', '키', '스', '사', '랑']\n"
     ]
    }
   ],
   "source": [
    "char_arr = [c for c in 'SEPabcdefghijklmnopqrstuvwxyz단어나무놀이소녀키스사랑']\n",
    "print(char_arr)"
   ]
  },
  {
   "cell_type": "code",
   "execution_count": 3,
   "metadata": {},
   "outputs": [
    {
     "name": "stdout",
     "output_type": "stream",
     "text": [
      "{'o': 17, '랑': 40, 'd': 6, 'r': 20, 'b': 4, '단': 29, 'g': 9, 'z': 28, 'v': 24, 'P': 2, 'S': 0, 'e': 7, 'c': 5, '키': 37, '어': 30, '사': 39, 'm': 15, 'i': 11, 'j': 12, '이': 34, 'p': 18, 't': 22, '무': 32, 'h': 10, 'u': 23, '나': 31, 'l': 14, '놀': 33, 'w': 25, 'a': 3, 'y': 27, 'q': 19, '녀': 36, 'E': 1, 'k': 13, 's': 21, 'f': 8, '스': 38, '소': 35, 'n': 16, 'x': 26}\n"
     ]
    }
   ],
   "source": [
    "num_dic = {n: i for i, n in enumerate(char_arr)}\n",
    "print(num_dic)"
   ]
  },
  {
   "cell_type": "code",
   "execution_count": 4,
   "metadata": {},
   "outputs": [
    {
     "name": "stdout",
     "output_type": "stream",
     "text": [
      "41\n"
     ]
    }
   ],
   "source": [
    "dic_len = len(num_dic)\n",
    "print(dic_len)"
   ]
  },
  {
   "cell_type": "code",
   "execution_count": 5,
   "metadata": {},
   "outputs": [],
   "source": [
    "seq_data = [['word', '단어어'], ['wood', '나무무'],\n",
    "            ['game', '놀이이'], ['girl', '소녀녀'],\n",
    "            ['kiss', '키스스'], ['love', '사랑랑']]"
   ]
  },
  {
   "cell_type": "code",
   "execution_count": 6,
   "metadata": {},
   "outputs": [],
   "source": [
    "def make_batch(seq_data):\n",
    "    input_batch = []\n",
    "    output_batch = []\n",
    "    target_batch = []\n",
    "\n",
    "    for seq in seq_data:        \n",
    "        input = [num_dic[n] for n in seq[0]]\n",
    "        output = [num_dic[n] for n in ('S' + seq[1])]\n",
    "        target = [num_dic[n] for n in (seq[1] + 'E')]\n",
    "\n",
    "        input_batch.append(np.eye(dic_len)[input])        \n",
    "        output_batch.append(np.eye(dic_len)[output])\n",
    "        # 출력값만 one-hot 인코딩이 아님 (sparse_softmax_cross_entropy_with_logits 사용)\n",
    "        target_batch.append(target)\n",
    "\n",
    "    return input_batch, output_batch, target_batch"
   ]
  },
  {
   "cell_type": "markdown",
   "metadata": {},
   "source": [
    "### 옵션 설정"
   ]
  },
  {
   "cell_type": "code",
   "execution_count": 7,
   "metadata": {},
   "outputs": [],
   "source": [
    "learning_rate = 0.01\n",
    "n_hidden = 128\n",
    "total_epoch = 100\n",
    "n_class = n_input = dic_len"
   ]
  },
  {
   "cell_type": "markdown",
   "metadata": {},
   "source": [
    "### 신경망 모델 구성"
   ]
  },
  {
   "cell_type": "code",
   "execution_count": 8,
   "metadata": {},
   "outputs": [],
   "source": [
    "# [batch size, time steps, input size]\n",
    "enc_input = tf.placeholder(tf.float32, [None, None, n_input])\n",
    "dec_input = tf.placeholder(tf.float32, [None, None, n_input])\n",
    "# [batch size, time steps]\n",
    "targets = tf.placeholder(tf.int64, [None, None])"
   ]
  },
  {
   "cell_type": "markdown",
   "metadata": {},
   "source": [
    "### 인코더 셀"
   ]
  },
  {
   "cell_type": "code",
   "execution_count": 9,
   "metadata": {},
   "outputs": [],
   "source": [
    "with tf.variable_scope('encode'):\n",
    "    enc_cell = tf.nn.rnn_cell.BasicRNNCell(n_hidden)\n",
    "    enc_cell = tf.nn.rnn_cell.DropoutWrapper(enc_cell, output_keep_prob=0.5)\n",
    "\n",
    "    outputs, enc_states = tf.nn.dynamic_rnn(enc_cell, enc_input, dtype=tf.float32)"
   ]
  },
  {
   "cell_type": "markdown",
   "metadata": {},
   "source": [
    "### 디코더 셀"
   ]
  },
  {
   "cell_type": "code",
   "execution_count": 10,
   "metadata": {},
   "outputs": [],
   "source": [
    "with tf.variable_scope('decode'):\n",
    "    dec_cell = tf.nn.rnn_cell.BasicRNNCell(n_hidden)\n",
    "    dec_cell = tf.nn.rnn_cell.DropoutWrapper(dec_cell, output_keep_prob=0.5)\n",
    "\n",
    "    # Seq2Seq 모델은 인코더 셀의 최종 상태값을\n",
    "    # 디코더 셀의 초기 상태값으로 넣어주는 것이 핵심.\n",
    "    outputs, dec_states = tf.nn.dynamic_rnn(dec_cell, dec_input, \n",
    "                            initial_state=enc_states, dtype=tf.float32)"
   ]
  },
  {
   "cell_type": "code",
   "execution_count": 11,
   "metadata": {},
   "outputs": [],
   "source": [
    "model = tf.layers.dense(outputs, n_class, activation=None)"
   ]
  },
  {
   "cell_type": "code",
   "execution_count": 12,
   "metadata": {},
   "outputs": [],
   "source": [
    "cost = tf.reduce_mean(\n",
    "            tf.nn.sparse_softmax_cross_entropy_with_logits(\n",
    "logits=model, labels=targets))"
   ]
  },
  {
   "cell_type": "code",
   "execution_count": 13,
   "metadata": {},
   "outputs": [],
   "source": [
    "optimizer = tf.train.AdamOptimizer(learning_rate).minimize(cost)"
   ]
  },
  {
   "cell_type": "markdown",
   "metadata": {},
   "source": [
    "### 신경망 모델 학습"
   ]
  },
  {
   "cell_type": "code",
   "execution_count": 1,
   "metadata": {},
   "outputs": [
    {
     "ename": "NameError",
     "evalue": "name 'tf' is not defined",
     "traceback": [
      "\u001b[1;31m---------------------------------------------------------------------------\u001b[0m",
      "\u001b[1;31mNameError\u001b[0m                                 Traceback (most recent call last)",
      "\u001b[1;32m<ipython-input-1-957abaa6c4f2>\u001b[0m in \u001b[0;36m<module>\u001b[1;34m()\u001b[0m\n\u001b[1;32m----> 1\u001b[1;33m \u001b[0msess\u001b[0m \u001b[1;33m=\u001b[0m \u001b[0mtf\u001b[0m\u001b[1;33m.\u001b[0m\u001b[0mSession\u001b[0m\u001b[1;33m(\u001b[0m\u001b[1;33m)\u001b[0m\u001b[1;33m\u001b[0m\u001b[0m\n\u001b[0m\u001b[0;32m      2\u001b[0m \u001b[0msess\u001b[0m\u001b[1;33m.\u001b[0m\u001b[0mrun\u001b[0m\u001b[1;33m(\u001b[0m\u001b[0mtf\u001b[0m\u001b[1;33m.\u001b[0m\u001b[0mglobal_variables_initializer\u001b[0m\u001b[1;33m(\u001b[0m\u001b[1;33m)\u001b[0m\u001b[1;33m)\u001b[0m\u001b[1;33m\u001b[0m\u001b[0m\n\u001b[0;32m      3\u001b[0m \u001b[1;33m\u001b[0m\u001b[0m\n\u001b[0;32m      4\u001b[0m \u001b[0minput_batch\u001b[0m\u001b[1;33m,\u001b[0m \u001b[0moutput_batch\u001b[0m\u001b[1;33m,\u001b[0m \u001b[0mtarget_batch\u001b[0m \u001b[1;33m=\u001b[0m \u001b[0mmake_batch\u001b[0m\u001b[1;33m(\u001b[0m\u001b[0mseq_data\u001b[0m\u001b[1;33m)\u001b[0m\u001b[1;33m\u001b[0m\u001b[0m\n\u001b[0;32m      5\u001b[0m \u001b[1;33m\u001b[0m\u001b[0m\n",
      "\u001b[1;31mNameError\u001b[0m: name 'tf' is not defined"
     ],
     "output_type": "error"
    }
   ],
   "source": [
    "sess = tf.Session()\n",
    "sess.run(tf.global_variables_initializer())\n",
    "\n",
    "input_batch, output_batch, target_batch = make_batch(seq_data)\n",
    "\n",
    "print(target_batch)"
   ]
  },
  {
   "cell_type": "code",
   "execution_count": null,
   "metadata": {},
   "outputs": [],
   "source": [
    "#length check\n",
    "input_check = []\n",
    "for batch in input_batch:\n",
    "    input_check"
   ]
  },
  {
   "cell_type": "code",
   "execution_count": 15,
   "metadata": {},
   "outputs": [
    {
     "name": "stdout",
     "output_type": "stream",
     "text": [
      "Epoch: 0001 cost = 3.831133\n",
      "Epoch: 0002 cost = 2.866802\n",
      "Epoch: 0003 cost = 1.843194\n",
      "Epoch: 0004 cost = 1.156194\n",
      "Epoch: 0005 cost = 0.738397\n",
      "Epoch: 0006 cost = 0.489085\n",
      "Epoch: 0007 cost = 0.423022\n",
      "Epoch: 0008 cost = 0.329646\n",
      "Epoch: 0009 cost = 0.263023\n",
      "Epoch: 0010 cost = 0.165349\n",
      "Epoch: 0011 cost = 0.216159\n",
      "Epoch: 0012 cost = 0.241344\n",
      "Epoch: 0013 cost = 0.132908\n",
      "Epoch: 0014 cost = 0.102196\n",
      "Epoch: 0015 cost = 0.084905\n",
      "Epoch: 0016 cost = 0.086248\n",
      "Epoch: 0017 cost = 0.142764\n",
      "Epoch: 0018 cost = 0.061367\n",
      "Epoch: 0019 cost = 0.116928\n",
      "Epoch: 0020 cost = 0.030388\n",
      "Epoch: 0021 cost = 0.097610\n",
      "Epoch: 0022 cost = 0.067882\n",
      "Epoch: 0023 cost = 0.024071\n",
      "Epoch: 0024 cost = 0.069247\n",
      "Epoch: 0025 cost = 0.036232\n",
      "Epoch: 0026 cost = 0.031283\n",
      "Epoch: 0027 cost = 0.036504\n",
      "Epoch: 0028 cost = 0.006239\n",
      "Epoch: 0029 cost = 0.005352\n",
      "Epoch: 0030 cost = 0.009490\n",
      "Epoch: 0031 cost = 0.012215\n",
      "Epoch: 0032 cost = 0.036421\n",
      "Epoch: 0033 cost = 0.005149\n",
      "Epoch: 0034 cost = 0.005768\n",
      "Epoch: 0035 cost = 0.002909\n",
      "Epoch: 0036 cost = 0.007148\n",
      "Epoch: 0037 cost = 0.008502\n",
      "Epoch: 0038 cost = 0.004650\n",
      "Epoch: 0039 cost = 0.002588\n",
      "Epoch: 0040 cost = 0.002507\n",
      "Epoch: 0041 cost = 0.005267\n",
      "Epoch: 0042 cost = 0.003776\n",
      "Epoch: 0043 cost = 0.004253\n",
      "Epoch: 0044 cost = 0.005301\n",
      "Epoch: 0045 cost = 0.005428\n",
      "Epoch: 0046 cost = 0.002906\n",
      "Epoch: 0047 cost = 0.002730\n",
      "Epoch: 0048 cost = 0.004951\n",
      "Epoch: 0049 cost = 0.001723\n",
      "Epoch: 0050 cost = 0.001448\n",
      "Epoch: 0051 cost = 0.001162\n",
      "Epoch: 0052 cost = 0.005198\n",
      "Epoch: 0053 cost = 0.003899\n",
      "Epoch: 0054 cost = 0.001656\n",
      "Epoch: 0055 cost = 0.001151\n",
      "Epoch: 0056 cost = 0.003224\n",
      "Epoch: 0057 cost = 0.002090\n",
      "Epoch: 0058 cost = 0.002857\n",
      "Epoch: 0059 cost = 0.001422\n",
      "Epoch: 0060 cost = 0.003381\n",
      "Epoch: 0061 cost = 0.001997\n",
      "Epoch: 0062 cost = 0.001257\n",
      "Epoch: 0063 cost = 0.001268\n",
      "Epoch: 0064 cost = 0.000745\n",
      "Epoch: 0065 cost = 0.001963\n",
      "Epoch: 0066 cost = 0.000708\n",
      "Epoch: 0067 cost = 0.001288\n",
      "Epoch: 0068 cost = 0.000433\n",
      "Epoch: 0069 cost = 0.001545\n",
      "Epoch: 0070 cost = 0.002478\n",
      "Epoch: 0071 cost = 0.000699\n",
      "Epoch: 0072 cost = 0.001252\n",
      "Epoch: 0073 cost = 0.002064\n",
      "Epoch: 0074 cost = 0.000592\n",
      "Epoch: 0075 cost = 0.002865\n",
      "Epoch: 0076 cost = 0.000547\n",
      "Epoch: 0077 cost = 0.001561\n",
      "Epoch: 0078 cost = 0.000656\n",
      "Epoch: 0079 cost = 0.000342\n",
      "Epoch: 0080 cost = 0.000901\n",
      "Epoch: 0081 cost = 0.000585\n",
      "Epoch: 0082 cost = 0.000886\n",
      "Epoch: 0083 cost = 0.001216\n",
      "Epoch: 0084 cost = 0.000738\n",
      "Epoch: 0085 cost = 0.001224\n",
      "Epoch: 0086 cost = 0.000474\n",
      "Epoch: 0087 cost = 0.000487\n",
      "Epoch: 0088 cost = 0.001232\n",
      "Epoch: 0089 cost = 0.000493\n",
      "Epoch: 0090 cost = 0.000842\n",
      "Epoch: 0091 cost = 0.001210\n",
      "Epoch: 0092 cost = 0.001007\n",
      "Epoch: 0093 cost = 0.000731\n",
      "Epoch: 0094 cost = 0.000576\n",
      "Epoch: 0095 cost = 0.000660\n",
      "Epoch: 0096 cost = 0.000903\n",
      "Epoch: 0097 cost = 0.000319\n",
      "Epoch: 0098 cost = 0.000410\n",
      "Epoch: 0099 cost = 0.000527\n",
      "Epoch: 0100 cost = 0.000473\n",
      "최적화 완료!\n"
     ]
    }
   ],
   "source": [
    "for epoch in range(total_epoch):\n",
    "    _, loss = sess.run([optimizer, cost],\n",
    "                       feed_dict={enc_input: input_batch,\n",
    "                                  dec_input: output_batch,\n",
    "                                  targets: target_batch})\n",
    "\n",
    "    print('Epoch:', '%04d' % (epoch + 1),\n",
    "          'cost =', '{:.6f}'.format(loss))\n",
    "\n",
    "print('최적화 완료!')"
   ]
  },
  {
   "cell_type": "markdown",
   "metadata": {},
   "source": [
    "### 번역 테스트"
   ]
  },
  {
   "cell_type": "code",
   "execution_count": 16,
   "metadata": {},
   "outputs": [],
   "source": [
    "# 단어를 입력받아 번역 단어를 예측하고 디코딩하는 함수\n",
    "def translate(word):\n",
    "    # 이 모델은 입력값과 출력값 데이터로 [영어단어, 한글단어] 사용하지만,\n",
    "    # 예측시에는 한글단어를 알지 못하므로, 디코더의 입출력값을 의미 없는 값인 P 값으로 채운다.\n",
    "    # ['word', 'PPPP']\n",
    "    seq_data = [word, 'P' * len(word)]\n",
    "\n",
    "    input_batch, output_batch, target_batch = make_batch([seq_data])\n",
    "\n",
    "    # 결과가 [batch size, time step, input] 으로 나오기 때문에,\n",
    "    # 2번째 차원인 input 차원을 argmax 로 취해 가장 확률이 높은 글자를 예측 값으로 만든다.\n",
    "    prediction = tf.argmax(model, 2)\n",
    "\n",
    "    result = sess.run(prediction,\n",
    "                      feed_dict={enc_input: input_batch,\n",
    "                                 dec_input: output_batch,\n",
    "                                 targets: target_batch})\n",
    "\n",
    "    # 결과 값인 숫자의 인덱스에 해당하는 글자를 가져와 글자 배열을 만든다.\n",
    "    decoded = [char_arr[i] for i in result[0]]\n",
    "\n",
    "    # 출력의 끝을 의미하는 'E' 이후의 글자들을 제거하고 문자열로 만든다.\n",
    "    end = decoded.index('E')\n",
    "    translated = ''.join(decoded[:end])\n",
    "\n",
    "    return translated"
   ]
  },
  {
   "cell_type": "code",
   "execution_count": 17,
   "metadata": {},
   "outputs": [
    {
     "name": "stdout",
     "output_type": "stream",
     "text": [
      "\n",
      "=== 번역 테스트 ===\n",
      "word -> 단어어\n",
      "wodr -> 단무어\n",
      "love -> 사랑랑\n",
      "loev -> 사랑랑\n",
      "abcd -> 소스녀어\n"
     ]
    }
   ],
   "source": [
    "\n",
    "print('\\n=== 번역 테스트 ===')\n",
    "\n",
    "print('word ->', translate('word'))\n",
    "print('wodr ->', translate('wodr'))\n",
    "print('love ->', translate('love'))\n",
    "print('loev ->', translate('loev'))\n",
    "print('abcd ->', translate('abcd'))"
   ]
  },
  {
   "cell_type": "code",
   "execution_count": null,
   "metadata": {},
   "outputs": [],
   "source": []
  }
 ],
 "metadata": {
  "kernelspec": {
   "display_name": "Python 3",
   "language": "python",
   "name": "python3"
  },
  "language_info": {
   "codemirror_mode": {
    "name": "ipython",
    "version": 3
   },
   "file_extension": ".py",
   "mimetype": "text/x-python",
   "name": "python",
   "nbconvert_exporter": "python",
   "pygments_lexer": "ipython3",
   "version": "3.5.6"
  }
 },
 "nbformat": 4,
 "nbformat_minor": 2
}
