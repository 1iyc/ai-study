{
 "cells": [
  {
   "cell_type": "code",
   "execution_count": 1,
   "metadata": {},
   "outputs": [],
   "source": [
    "import tensorflow as tf\n",
    "import matplotlib\n",
    "import matplotlib.pyplot as plt\n",
    "import numpy as np"
   ]
  },
  {
   "cell_type": "code",
   "execution_count": 2,
   "metadata": {},
   "outputs": [],
   "source": [
    "# Matplot  Korean Setting\n",
    "font_name = matplotlib.font_manager.FontProperties(\n",
    "                fname=\"C:\\Windows\\Fonts\\D2Coding-Ver1.3.2-20180524-all.ttc\"\n",
    "            ).get_name()\n",
    "matplotlib.rc('font', family=font_name)"
   ]
  },
  {
   "cell_type": "code",
   "execution_count": 3,
   "metadata": {},
   "outputs": [],
   "source": [
    "sentences = [\"나 고양이 좋다\",\n",
    "             \"나 강아지 좋다\",\n",
    "             \"나 동물 좋다\",\n",
    "             \"강아지 고양이 동물\",\n",
    "             \"여자친구 고양이 강아지 좋다\",\n",
    "             \"고양이 생선 우유 좋다\",\n",
    "             \"강아지 생선 싫다 우유 좋다\",\n",
    "             \"강아지 고양이 눈 좋다\",\n",
    "             \"나 여자친구 좋다\",\n",
    "             \"여자친구 나 싫다\",\n",
    "             \"여자친구 나 영화 책 음악 좋다\",\n",
    "             \"나 게임 만화 애니 좋다\",\n",
    "             \"고양이 강아지 싫다\",\n",
    "            \"강아지 고양이 좋다\"]"
   ]
  },
  {
   "cell_type": "code",
   "execution_count": 5,
   "metadata": {},
   "outputs": [
    {
     "name": "stdout",
     "output_type": "stream",
     "text": [
      "['나', '고양이', '좋다', '나', '강아지', '좋다', '나', '동물', '좋다', '강아지', '고양이', '동물', '여자친구', '고양이', '강아지', '좋다', '고양이', '생선', '우유', '좋다', '강아지', '생선', '싫다', '우유', '좋다', '강아지', '고양이', '눈', '좋다', '나', '여자친구', '좋다', '여자친구', '나', '싫다', '여자친구', '나', '영화', '책', '음악', '좋다', '나', '게임', '만화', '애니', '좋다', '고양이', '강아지', '싫다', '강아지', '고양이', '좋다']\n"
     ]
    }
   ],
   "source": [
    "word_sequence = \" \".join(sentences).split()\n",
    "print(word_sequence)"
   ]
  },
  {
   "cell_type": "code",
   "execution_count": 7,
   "metadata": {},
   "outputs": [
    {
     "name": "stdout",
     "output_type": "stream",
     "text": [
      "['눈', '영화', '게임', '고양이', '나', '동물', '좋다', '강아지', '싫다', '음악', '우유', '애니', '여자친구', '생선', '만화', '책']\n"
     ]
    }
   ],
   "source": [
    "word_list = \" \".join(sentences).split()\n",
    "word_list = list(set(word_list))\n",
    "print(word_list)"
   ]
  },
  {
   "cell_type": "code",
   "execution_count": 8,
   "metadata": {},
   "outputs": [
    {
     "name": "stdout",
     "output_type": "stream",
     "text": [
      "{'생선': 13, '고양이': 3, '책': 15, '눈': 0, '게임': 2, '동물': 5, '싫다': 8, '좋다': 6, '강아지': 7, '음악': 9, '우유': 10, '여자친구': 12, '영화': 1, '애니': 11, '만화': 14, '나': 4}\n"
     ]
    }
   ],
   "source": [
    "word_dict = {w: i for i, w in enumerate(word_list)}\n",
    "print(word_dict)"
   ]
  },
  {
   "cell_type": "code",
   "execution_count": 11,
   "metadata": {},
   "outputs": [
    {
     "name": "stdout",
     "output_type": "stream",
     "text": [
      "['나', ' ', '고', '양', '이', ' ', '좋', '다', '나', ' ', '강', '아', '지', ' ', '좋', '다', '나', ' ', '동', '물', ' ', '좋', '다', '강', '아', '지', ' ', '고', '양', '이', ' ', '동', '물', '여', '자', '친', '구', ' ', '고', '양', '이', ' ', '강', '아', '지', ' ', '좋', '다', '고', '양', '이', ' ', '생', '선', ' ', '우', '유', ' ', '좋', '다', '강', '아', '지', ' ', '생', '선', ' ', '싫', '다', ' ', '우', '유', ' ', '좋', '다', '강', '아', '지', ' ', '고', '양', '이', ' ', '눈', ' ', '좋', '다', '나', ' ', '여', '자', '친', '구', ' ', '좋', '다', '여', '자', '친', '구', ' ', '나', ' ', '싫', '다', '여', '자', '친', '구', ' ', '나', ' ', '영', '화', ' ', '책', ' ', '음', '악', ' ', '좋', '다', '나', ' ', '게', '임', ' ', '만', '화', ' ', '애', '니', ' ', '좋', '다', '고', '양', '이', ' ', '강', '아', '지', ' ', '싫', '다', '강', '아', '지', ' ', '고', '양', '이', ' ', '좋', '다']\n"
     ]
    }
   ],
   "source": [
    "char_sequence = list(\"\".join(sentences))\n",
    "print(char_sequence)"
   ]
  },
  {
   "cell_type": "code",
   "execution_count": null,
   "metadata": {},
   "outputs": [],
   "source": []
  }
 ],
 "metadata": {
  "kernelspec": {
   "display_name": "Python 3",
   "language": "python",
   "name": "python3"
  },
  "language_info": {
   "codemirror_mode": {
    "name": "ipython",
    "version": 3
   },
   "file_extension": ".py",
   "mimetype": "text/x-python",
   "name": "python",
   "nbconvert_exporter": "python",
   "pygments_lexer": "ipython3",
   "version": "3.5.6"
  }
 },
 "nbformat": 4,
 "nbformat_minor": 2
}
