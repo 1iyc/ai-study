{
 "cells": [
  {
   "cell_type": "code",
   "execution_count": 1,
   "metadata": {},
   "outputs": [],
   "source": [
    "import tensorflow as tf\n",
    "import numpy as np\n",
    "\n",
    "x = np.random.sample((10, 2))"
   ]
  },
  {
   "cell_type": "code",
   "execution_count": 2,
   "metadata": {},
   "outputs": [
    {
     "name": "stdout",
     "output_type": "stream",
     "text": [
      "[[0.02221652 0.86758933]\n",
      " [0.280104   0.80275943]\n",
      " [0.84716926 0.24592894]\n",
      " [0.25383835 0.251935  ]\n",
      " [0.44549356 0.44207936]\n",
      " [0.69676945 0.83231724]\n",
      " [0.86318418 0.97824042]\n",
      " [0.84074216 0.23526122]\n",
      " [0.96190205 0.07992176]\n",
      " [0.10268389 0.65864417]]\n"
     ]
    }
   ],
   "source": [
    "print(x)"
   ]
  },
  {
   "cell_type": "code",
   "execution_count": 3,
   "metadata": {},
   "outputs": [],
   "source": [
    "dataset = tf.data.Dataset.from_tensor_slices(x)\n",
    "\n",
    "iterator = dataset.make_one_shot_iterator()\n",
    "next_element = iterator.get_next()"
   ]
  },
  {
   "cell_type": "code",
   "execution_count": 5,
   "metadata": {
    "scrolled": true
   },
   "outputs": [
    {
     "name": "stdout",
     "output_type": "stream",
     "text": [
      "[0.02221652 0.86758933]\n",
      "[0.280104   0.80275943]\n",
      "[0.84716926 0.24592894]\n",
      "[0.25383835 0.251935  ]\n",
      "[0.44549356 0.44207936]\n",
      "[0.69676945 0.83231724]\n",
      "[0.86318418 0.97824042]\n",
      "[0.84074216 0.23526122]\n",
      "[0.96190205 0.07992176]\n",
      "[0.10268389 0.65864417]\n"
     ]
    }
   ],
   "source": [
    "with tf.Session() as sess:\n",
    "    while True:\n",
    "        try:\n",
    "            print(sess.run(next_element))\n",
    "        except tf.errors.OutOfRangeError:\n",
    "            break"
   ]
  },
  {
   "cell_type": "markdown",
   "metadata": {},
   "source": [
    "#### Reference\n",
    "https://hiseon.me/2018/04/15/tensorflow-dataset/"
   ]
  }
 ],
 "metadata": {
  "kernelspec": {
   "display_name": "Python 3",
   "language": "python",
   "name": "python3"
  },
  "language_info": {
   "codemirror_mode": {
    "name": "ipython",
    "version": 3
   },
   "file_extension": ".py",
   "mimetype": "text/x-python",
   "name": "python",
   "nbconvert_exporter": "python",
   "pygments_lexer": "ipython3",
   "version": "3.5.6"
  }
 },
 "nbformat": 4,
 "nbformat_minor": 2
}
