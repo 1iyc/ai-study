{
 "cells": [
  {
   "cell_type": "markdown",
   "metadata": {},
   "source": [
    "### Reference\n",
    "https://cyc1am3n.github.io/2018/09/13/how-to-use-dataset-in-tensorflow.html"
   ]
  },
  {
   "cell_type": "code",
   "execution_count": 2,
   "metadata": {},
   "outputs": [],
   "source": [
    "import tensorflow as tf\n",
    "import numpy as np"
   ]
  },
  {
   "cell_type": "markdown",
   "metadata": {},
   "source": [
    "### Generate & Initailize data"
   ]
  },
  {
   "cell_type": "code",
   "execution_count": 4,
   "metadata": {
    "scrolled": true
   },
   "outputs": [
    {
     "name": "stdout",
     "output_type": "stream",
     "text": [
      "[[0.78956841 0.04945469]\n",
      " [0.40970237 0.17166878]\n",
      " [0.20037212 0.19184105]\n",
      " [0.54451392 0.47378585]\n",
      " [0.07690661 0.03934223]\n",
      " [0.69667067 0.39097359]\n",
      " [0.86204393 0.40017681]\n",
      " [0.15762902 0.96215774]\n",
      " [0.30859904 0.2765723 ]\n",
      " [0.75272889 0.1176572 ]\n",
      " [0.74886932 0.30507981]\n",
      " [0.85427441 0.88508983]\n",
      " [0.99854475 0.75714267]\n",
      " [0.13663969 0.00336355]\n",
      " [0.62072814 0.86337777]\n",
      " [0.00867058 0.88946797]\n",
      " [0.39178852 0.58908602]\n",
      " [0.87404929 0.94596911]\n",
      " [0.10711857 0.57572191]\n",
      " [0.74273609 0.72270702]\n",
      " [0.63241848 0.46396164]\n",
      " [0.89946557 0.8260645 ]\n",
      " [0.00167916 0.52668302]\n",
      " [0.7628376  0.39403839]\n",
      " [0.09317993 0.48685186]\n",
      " [0.24727244 0.93222483]\n",
      " [0.10807784 0.32422863]\n",
      " [0.7887526  0.34491802]\n",
      " [0.19707337 0.72585477]\n",
      " [0.53708565 0.02270507]\n",
      " [0.57132305 0.23207651]\n",
      " [0.76216763 0.91833989]\n",
      " [0.16805704 0.61416375]\n",
      " [0.43835818 0.84323244]\n",
      " [0.26820556 0.89943497]\n",
      " [0.83773569 0.32726014]\n",
      " [0.42541342 0.39310915]\n",
      " [0.29304101 0.61901203]\n",
      " [0.70877798 0.95054478]\n",
      " [0.04074097 0.99289251]\n",
      " [0.87018117 0.03949228]\n",
      " [0.74484975 0.58996267]\n",
      " [0.11814788 0.68998141]\n",
      " [0.84633987 0.71164486]\n",
      " [0.78756182 0.80315346]\n",
      " [0.42875511 0.09256327]\n",
      " [0.62028316 0.16980811]\n",
      " [0.13415826 0.17965697]\n",
      " [0.79239862 0.9376354 ]\n",
      " [0.49920846 0.35552399]\n",
      " [0.48153525 0.51218097]\n",
      " [0.76976523 0.25432006]\n",
      " [0.64399137 0.17920303]\n",
      " [0.45459505 0.02157492]\n",
      " [0.13313232 0.61586309]\n",
      " [0.2683096  0.8381443 ]\n",
      " [0.83274936 0.52205789]\n",
      " [0.6986122  0.15936352]\n",
      " [0.18475099 0.12471361]\n",
      " [0.09599499 0.13028587]\n",
      " [0.6939491  0.56436151]\n",
      " [0.41946986 0.43606532]\n",
      " [0.34548085 0.90935002]\n",
      " [0.05209817 0.34785676]\n",
      " [0.34169127 0.73227588]\n",
      " [0.92960914 0.52619218]\n",
      " [0.04115903 0.85580773]\n",
      " [0.68388972 0.63701331]\n",
      " [0.77150819 0.81423666]\n",
      " [0.34137964 0.33557641]\n",
      " [0.62545041 0.51888787]\n",
      " [0.44522501 0.71586311]\n",
      " [0.94650137 0.64229433]\n",
      " [0.97711147 0.5789364 ]\n",
      " [0.73976881 0.95802253]\n",
      " [0.70017427 0.55998202]\n",
      " [0.14483987 0.3373293 ]\n",
      " [0.53712841 0.8388618 ]\n",
      " [0.7282336  0.54811307]\n",
      " [0.5584644  0.34103571]\n",
      " [0.94208594 0.57606617]\n",
      " [0.23807965 0.28091943]\n",
      " [0.05161286 0.10740308]\n",
      " [0.90174818 0.26434326]\n",
      " [0.30817202 0.29564886]\n",
      " [0.15366939 0.52884568]\n",
      " [0.91516446 0.1156221 ]\n",
      " [0.66973451 0.80285612]\n",
      " [0.03946131 0.33854252]\n",
      " [0.44052295 0.51809453]\n",
      " [0.65535045 0.06188896]\n",
      " [0.47362971 0.17894027]\n",
      " [0.23142951 0.02284965]\n",
      " [0.50971461 0.30809457]\n",
      " [0.33007926 0.64444934]\n",
      " [0.45138503 0.23981889]\n",
      " [0.302266   0.47089562]\n",
      " [0.68662356 0.59162578]\n",
      " [0.75995537 0.24994685]\n",
      " [0.93773093 0.03456892]]\n"
     ]
    }
   ],
   "source": [
    "x = np.random.sample((100,2))\n",
    "print(x)"
   ]
  },
  {
   "cell_type": "code",
   "execution_count": 5,
   "metadata": {},
   "outputs": [],
   "source": [
    "dataset = tf.data.Dataset.from_tensor_slices(x)"
   ]
  },
  {
   "cell_type": "markdown",
   "metadata": {},
   "source": [
    "### Generate & Initailize fetures & labels"
   ]
  },
  {
   "cell_type": "code",
   "execution_count": 7,
   "metadata": {
    "scrolled": true
   },
   "outputs": [
    {
     "name": "stdout",
     "output_type": "stream",
     "text": [
      "features: \n",
      " [[0.00703451 0.79067886]\n",
      " [0.17663263 0.72258023]\n",
      " [0.6936106  0.18132885]\n",
      " [0.02554335 0.39976228]\n",
      " [0.11659932 0.95984856]\n",
      " [0.77253315 0.92629954]\n",
      " [0.66791416 0.86197602]\n",
      " [0.05958787 0.00678802]\n",
      " [0.28475345 0.50366661]\n",
      " [0.18823894 0.523541  ]\n",
      " [0.79297879 0.91340331]\n",
      " [0.51241992 0.09496469]\n",
      " [0.67165824 0.56791339]\n",
      " [0.08634682 0.06329314]\n",
      " [0.33901754 0.35663783]\n",
      " [0.12866543 0.01353634]\n",
      " [0.65595756 0.56484907]\n",
      " [0.28730348 0.79756401]\n",
      " [0.61740658 0.38946324]\n",
      " [0.36372162 0.84166378]\n",
      " [0.43013374 0.866301  ]\n",
      " [0.18983886 0.53198638]\n",
      " [0.24152428 0.85250027]\n",
      " [0.98979688 0.74442837]\n",
      " [0.51841508 0.82496781]\n",
      " [0.90673053 0.92354822]\n",
      " [0.99579794 0.51474624]\n",
      " [0.96549516 0.50496986]\n",
      " [0.70998634 0.82741611]\n",
      " [0.32686374 0.80927623]\n",
      " [0.64335574 0.62393015]\n",
      " [0.21931299 0.14405269]\n",
      " [0.39553549 0.01607543]\n",
      " [0.03395492 0.64084831]\n",
      " [0.97995496 0.80072283]\n",
      " [0.23979867 0.82603755]\n",
      " [0.20531865 0.75635052]\n",
      " [0.29271129 0.93208589]\n",
      " [0.00365798 0.12411837]\n",
      " [0.65773921 0.85146427]\n",
      " [0.61510994 0.27823103]\n",
      " [0.14602475 0.92584013]\n",
      " [0.02896445 0.8648935 ]\n",
      " [0.66072641 0.94317436]\n",
      " [0.34880092 0.11224571]\n",
      " [0.35215355 0.53984706]\n",
      " [0.59797217 0.06132966]\n",
      " [0.72899116 0.11348263]\n",
      " [0.81434406 0.02550301]\n",
      " [0.31227257 0.57215186]\n",
      " [0.15924007 0.24270268]\n",
      " [0.73290237 0.17460955]\n",
      " [0.83573019 0.20670888]\n",
      " [0.63458837 0.47039812]\n",
      " [0.9833392  0.22870361]\n",
      " [0.62886835 0.29897722]\n",
      " [0.76941465 0.00864008]\n",
      " [0.99804914 0.52019173]\n",
      " [0.16806881 0.34595483]\n",
      " [0.36387554 0.25399103]\n",
      " [0.97942064 0.51031761]\n",
      " [0.37171053 0.4331252 ]\n",
      " [0.28132015 0.34987805]\n",
      " [0.27064891 0.92872026]\n",
      " [0.17246636 0.75499497]\n",
      " [0.89165841 0.7745797 ]\n",
      " [0.58435786 0.54564437]\n",
      " [0.60769445 0.40996153]\n",
      " [0.52299663 0.88675851]\n",
      " [0.28037628 0.1030738 ]\n",
      " [0.96366237 0.30959387]\n",
      " [0.30604086 0.08757795]\n",
      " [0.14738865 0.95541622]\n",
      " [0.21939055 0.27803052]\n",
      " [0.92793157 0.24544405]\n",
      " [0.56071601 0.29107204]\n",
      " [0.44765498 0.91716696]\n",
      " [0.79858718 0.99918965]\n",
      " [0.95768764 0.35899131]\n",
      " [0.4848372  0.76252522]\n",
      " [0.76230341 0.62557465]\n",
      " [0.71738828 0.23207332]\n",
      " [0.2749069  0.21383292]\n",
      " [0.76416466 0.03957962]\n",
      " [0.72697436 0.50761451]\n",
      " [0.5270215  0.82139699]\n",
      " [0.63976634 0.17754769]\n",
      " [0.47000265 0.72253953]\n",
      " [0.29204339 0.99525315]\n",
      " [0.88234928 0.2744494 ]\n",
      " [0.05761839 0.93665759]\n",
      " [0.7998603  0.31652814]\n",
      " [0.85368899 0.41306577]\n",
      " [0.06040683 0.65685962]\n",
      " [0.73898047 0.77023503]\n",
      " [0.36272273 0.83269244]\n",
      " [0.8677523  0.98423022]\n",
      " [0.00430907 0.33912905]\n",
      " [0.10412009 0.69258248]\n",
      " [0.87403539 0.01051131]]\n"
     ]
    }
   ],
   "source": [
    "features, labels = (np.random.sample((100,2)), np.random.sample((100,1)))\n",
    "print(\"features: \\n\", features)"
   ]
  },
  {
   "cell_type": "code",
   "execution_count": 8,
   "metadata": {
    "scrolled": true
   },
   "outputs": [
    {
     "name": "stdout",
     "output_type": "stream",
     "text": [
      "labels: \n",
      " [[0.38574839]\n",
      " [0.6926771 ]\n",
      " [0.4165407 ]\n",
      " [0.4153857 ]\n",
      " [0.71942452]\n",
      " [0.65625272]\n",
      " [0.04251592]\n",
      " [0.34854037]\n",
      " [0.36305745]\n",
      " [0.25914876]\n",
      " [0.23566393]\n",
      " [0.4581935 ]\n",
      " [0.32156716]\n",
      " [0.95634435]\n",
      " [0.87638764]\n",
      " [0.38662097]\n",
      " [0.3771355 ]\n",
      " [0.97461186]\n",
      " [0.72005371]\n",
      " [0.59487888]\n",
      " [0.63419435]\n",
      " [0.90596559]\n",
      " [0.25217722]\n",
      " [0.84164565]\n",
      " [0.8485473 ]\n",
      " [0.98448235]\n",
      " [0.37008815]\n",
      " [0.07116618]\n",
      " [0.19013257]\n",
      " [0.47240145]\n",
      " [0.22253211]\n",
      " [0.00147173]\n",
      " [0.32561675]\n",
      " [0.01221052]\n",
      " [0.70533895]\n",
      " [0.60669437]\n",
      " [0.72272148]\n",
      " [0.48835403]\n",
      " [0.24586636]\n",
      " [0.1942466 ]\n",
      " [0.06109328]\n",
      " [0.21657139]\n",
      " [0.88778143]\n",
      " [0.6126912 ]\n",
      " [0.41181619]\n",
      " [0.31361243]\n",
      " [0.25428926]\n",
      " [0.99960675]\n",
      " [0.658883  ]\n",
      " [0.98143227]\n",
      " [0.94267097]\n",
      " [0.82051234]\n",
      " [0.05917975]\n",
      " [0.63967319]\n",
      " [0.05083091]\n",
      " [0.29672359]\n",
      " [0.65695513]\n",
      " [0.4668372 ]\n",
      " [0.61168643]\n",
      " [0.9929951 ]\n",
      " [0.2458401 ]\n",
      " [0.34679861]\n",
      " [0.33865926]\n",
      " [0.66249701]\n",
      " [0.98395643]\n",
      " [0.39489423]\n",
      " [0.97794662]\n",
      " [0.85561214]\n",
      " [0.73378343]\n",
      " [0.67233067]\n",
      " [0.78933828]\n",
      " [0.27188193]\n",
      " [0.28118088]\n",
      " [0.39909919]\n",
      " [0.1880456 ]\n",
      " [0.52407971]\n",
      " [0.40408931]\n",
      " [0.95767471]\n",
      " [0.51935198]\n",
      " [0.00116779]\n",
      " [0.18641293]\n",
      " [0.64702008]\n",
      " [0.24098984]\n",
      " [0.33961352]\n",
      " [0.23643342]\n",
      " [0.25131939]\n",
      " [0.76459431]\n",
      " [0.63121174]\n",
      " [0.09558332]\n",
      " [0.4649905 ]\n",
      " [0.67423273]\n",
      " [0.39748131]\n",
      " [0.08884359]\n",
      " [0.43029387]\n",
      " [0.91780786]\n",
      " [0.65177612]\n",
      " [0.89893995]\n",
      " [0.42374565]\n",
      " [0.04211635]\n",
      " [0.95954715]]\n"
     ]
    }
   ],
   "source": [
    "print(\"labels: \\n\", labels)"
   ]
  },
  {
   "cell_type": "code",
   "execution_count": 9,
   "metadata": {},
   "outputs": [],
   "source": [
    "dataset = tf.data.Dataset.from_tensor_slices((features, labels))\n",
    "iterator = dataset.make_one_shot_iterator()\n",
    "next_element = iterator.get_next()"
   ]
  },
  {
   "cell_type": "code",
   "execution_count": 12,
   "metadata": {},
   "outputs": [
    {
     "name": "stdout",
     "output_type": "stream",
     "text": [
      "(array([0.00703451, 0.79067886]), array([0.38574839]))\n"
     ]
    }
   ],
   "source": [
    "sess = tf.Session()"
   ]
  },
  {
   "cell_type": "code",
   "execution_count": 14,
   "metadata": {},
   "outputs": [
    {
     "name": "stdout",
     "output_type": "stream",
     "text": [
      "(array([0.6936106 , 0.18132885]), array([0.4165407]))\n"
     ]
    }
   ],
   "source": [
    "# Print iterable element\n",
    "print(sess.run(next_element))"
   ]
  },
  {
   "cell_type": "code",
   "execution_count": 15,
   "metadata": {},
   "outputs": [],
   "source": [
    "sess.close()"
   ]
  },
  {
   "cell_type": "markdown",
   "metadata": {},
   "source": [
    "### Load placeholder"
   ]
  },
  {
   "cell_type": "code",
   "execution_count": 16,
   "metadata": {},
   "outputs": [],
   "source": [
    "x = tf.placeholder(tf.float32, shape=[None, 2])\n",
    "dataset = tf.data.Dataset.from_tensor_slices(x)"
   ]
  },
  {
   "cell_type": "markdown",
   "metadata": {},
   "source": [
    "### Using generater initialize dataset"
   ]
  },
  {
   "cell_type": "code",
   "execution_count": 19,
   "metadata": {},
   "outputs": [
    {
     "name": "stdout",
     "output_type": "stream",
     "text": [
      "[list([[1]]) list([[2], [3]]) list([[3], [4], [5]])]\n",
      "(3,)\n"
     ]
    }
   ],
   "source": [
    "sequence = np.array([[[1]],[[2],[3]],[[3],[4],[5]]])\n",
    "print(sequence)\n",
    "print(sequence.shape)"
   ]
  },
  {
   "cell_type": "code",
   "execution_count": 21,
   "metadata": {},
   "outputs": [],
   "source": [
    "def generator():\n",
    "    for el in sequence:\n",
    "        yield el"
   ]
  },
  {
   "cell_type": "code",
   "execution_count": 28,
   "metadata": {},
   "outputs": [
    {
     "name": "stdout",
     "output_type": "stream",
     "text": [
      "WARNING:tensorflow:From C:\\Users\\KTNET\\Anaconda3\\lib\\site-packages\\tensorflow\\python\\data\\ops\\dataset_ops.py:429: py_func (from tensorflow.python.ops.script_ops) is deprecated and will be removed in a future version.\n",
      "Instructions for updating:\n",
      "tf.py_func is deprecated in TF V2. Instead, use\n",
      "    tf.py_function, which takes a python function which manipulates tf eager\n",
      "    tensors instead of numpy arrays. It's easy to convert a tf eager tensor to\n",
      "    an ndarray (just call tensor.numpy()) but having access to eager tensors\n",
      "    means `tf.py_function`s can use accelerators such as GPUs as well as\n",
      "    being differentiable using a gradient tape.\n",
      "    \n"
     ]
    }
   ],
   "source": [
    "dataset = tf.data.Dataset.from_generator(generator,\n",
    "                                         output_types= tf.int64,\n",
    "                                         output_shapes=(tf.TensorShape([None, 1])))"
   ]
  },
  {
   "cell_type": "code",
   "execution_count": 29,
   "metadata": {},
   "outputs": [
    {
     "name": "stdout",
     "output_type": "stream",
     "text": [
      "WARNING:tensorflow:From C:\\Users\\KTNET\\Anaconda3\\lib\\site-packages\\tensorflow\\python\\data\\ops\\dataset_ops.py:1419: colocate_with (from tensorflow.python.framework.ops) is deprecated and will be removed in a future version.\n",
      "Instructions for updating:\n",
      "Colocations handled automatically by placer.\n"
     ]
    }
   ],
   "source": [
    "iter = dataset.make_initializable_iterator()\n",
    "el = iter.get_next()"
   ]
  },
  {
   "cell_type": "code",
   "execution_count": 31,
   "metadata": {},
   "outputs": [
    {
     "name": "stdout",
     "output_type": "stream",
     "text": [
      "1:\n",
      " [[1]]\n",
      "2:\n",
      " [[2]\n",
      " [3]]\n",
      "3:\n",
      " [[3]\n",
      " [4]\n",
      " [5]]\n"
     ]
    }
   ],
   "source": [
    "with tf.Session() as sess:\n",
    "    sess.run(iter.initializer)\n",
    "    print(\"1:\\n\", sess.run(el))\n",
    "    print(\"2:\\n\", sess.run(el))\n",
    "    print(\"3:\\n\", sess.run(el))"
   ]
  },
  {
   "cell_type": "markdown",
   "metadata": {},
   "source": [
    "### Load csv file"
   ]
  },
  {
   "cell_type": "markdown",
   "metadata": {},
   "source": [
    "###### THIS FUNCTION IS DEPRECATED"
   ]
  },
  {
   "cell_type": "code",
   "execution_count": 50,
   "metadata": {},
   "outputs": [],
   "source": [
    "CSV_PATH = \"./data.csv\"\n",
    "# THIS FUNCTION IS DEPRECATED\n",
    "dataset = tf.contrib.data.make_csv_dataset(CSV_PATH, batch_size=1)"
   ]
  },
  {
   "cell_type": "code",
   "execution_count": 51,
   "metadata": {},
   "outputs": [
    {
     "name": "stdout",
     "output_type": "stream",
     "text": [
      "<DatasetV1Adapter shapes: OrderedDict([(a, (1,)), (b, (1,)), (c, (1,)), (d, (1,)), (e, (1,))]), types: OrderedDict([(a, tf.int32), (b, tf.int32), (c, tf.int32), (d, tf.int32), (e, tf.int32)])>\n"
     ]
    }
   ],
   "source": [
    "print(dataset)"
   ]
  },
  {
   "cell_type": "code",
   "execution_count": 39,
   "metadata": {},
   "outputs": [],
   "source": [
    "iterator = dataset.make_one_shot_iterator()\n",
    "next_element = iterator.get_next()"
   ]
  },
  {
   "cell_type": "code",
   "execution_count": 57,
   "metadata": {},
   "outputs": [
    {
     "name": "stdout",
     "output_type": "stream",
     "text": [
      "OrderedDict([('a', <tf.Tensor 'IteratorGetNext_3:0' shape=(1,) dtype=int32>), ('b', <tf.Tensor 'IteratorGetNext_3:1' shape=(1,) dtype=int32>), ('c', <tf.Tensor 'IteratorGetNext_3:2' shape=(1,) dtype=int32>), ('d', <tf.Tensor 'IteratorGetNext_3:3' shape=(1,) dtype=int32>), ('e', <tf.Tensor 'IteratorGetNext_3:4' shape=(1,) dtype=int32>)])\n"
     ]
    }
   ],
   "source": [
    "print(next_element)"
   ]
  },
  {
   "cell_type": "code",
   "execution_count": 56,
   "metadata": {},
   "outputs": [],
   "source": [
    "inputs = next_element['a']"
   ]
  },
  {
   "cell_type": "code",
   "execution_count": 58,
   "metadata": {
    "scrolled": true
   },
   "outputs": [
    {
     "name": "stdout",
     "output_type": "stream",
     "text": [
      "Tensor(\"IteratorGetNext_3:0\", shape=(1,), dtype=int32)\n"
     ]
    }
   ],
   "source": [
    "print(inputs)"
   ]
  },
  {
   "cell_type": "markdown",
   "metadata": {},
   "source": [
    "###### THIS FUNCTION IS NEW"
   ]
  },
  {
   "cell_type": "code",
   "execution_count": 195,
   "metadata": {},
   "outputs": [],
   "source": [
    "# THIS FUNCTION IS NEW\n",
    "dataset_test = tf.data.experimental.make_csv_dataset(CSV_PATH, batch_size=1,\n",
    "                                                    column_names=[\"feather\", 'wing', 'chapter'],\n",
    "                                                    column_defaults=[tf.float32, tf.float32, tf.float32],\n",
    "                                                    label_name=\"chapter\")"
   ]
  },
  {
   "cell_type": "code",
   "execution_count": 196,
   "metadata": {},
   "outputs": [
    {
     "name": "stdout",
     "output_type": "stream",
     "text": [
      "<DatasetV1Adapter shapes: (OrderedDict([(feather, (1,)), (wing, (1,))]), (1,)), types: (OrderedDict([(feather, tf.float32), (wing, tf.float32)]), tf.float32)>\n"
     ]
    }
   ],
   "source": [
    "print(dataset_test)"
   ]
  },
  {
   "cell_type": "code",
   "execution_count": 197,
   "metadata": {},
   "outputs": [],
   "source": [
    "iterator_test = dataset_test.make_one_shot_iterator()\n",
    "next_element_test = iterator_test.get_next()"
   ]
  },
  {
   "cell_type": "code",
   "execution_count": 198,
   "metadata": {},
   "outputs": [
    {
     "name": "stdout",
     "output_type": "stream",
     "text": [
      "(OrderedDict([('feather', <tf.Tensor 'IteratorGetNext_7:0' shape=(1,) dtype=float32>), ('wing', <tf.Tensor 'IteratorGetNext_7:1' shape=(1,) dtype=float32>)]), <tf.Tensor 'IteratorGetNext_7:2' shape=(1,) dtype=float32>)\n"
     ]
    }
   ],
   "source": [
    "print(next_element_test)"
   ]
  },
  {
   "cell_type": "code",
   "execution_count": 199,
   "metadata": {},
   "outputs": [],
   "source": [
    "inputs, labels = next_element_test"
   ]
  },
  {
   "cell_type": "code",
   "execution_count": 200,
   "metadata": {},
   "outputs": [
    {
     "name": "stdout",
     "output_type": "stream",
     "text": [
      "OrderedDict([('feather', <tf.Tensor 'IteratorGetNext_7:0' shape=(1,) dtype=float32>), ('wing', <tf.Tensor 'IteratorGetNext_7:1' shape=(1,) dtype=float32>)])\n"
     ]
    }
   ],
   "source": [
    "print(inputs)"
   ]
  },
  {
   "cell_type": "code",
   "execution_count": 201,
   "metadata": {},
   "outputs": [
    {
     "name": "stdout",
     "output_type": "stream",
     "text": [
      "Tensor(\"IteratorGetNext_7:2\", shape=(1,), dtype=float32)\n"
     ]
    }
   ],
   "source": [
    "print(labels)"
   ]
  },
  {
   "cell_type": "code",
   "execution_count": 202,
   "metadata": {},
   "outputs": [],
   "source": [
    "with tf.Session() as sess:\n",
    "    sess.run(next_element_test)"
   ]
  },
  {
   "cell_type": "code",
   "execution_count": null,
   "metadata": {},
   "outputs": [],
   "source": []
  }
 ],
 "metadata": {
  "kernelspec": {
   "display_name": "Python 3",
   "language": "python",
   "name": "python3"
  },
  "language_info": {
   "codemirror_mode": {
    "name": "ipython",
    "version": 3
   },
   "file_extension": ".py",
   "mimetype": "text/x-python",
   "name": "python",
   "nbconvert_exporter": "python",
   "pygments_lexer": "ipython3",
   "version": "3.5.6"
  }
 },
 "nbformat": 4,
 "nbformat_minor": 2
}
