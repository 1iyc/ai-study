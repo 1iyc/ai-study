{
 "cells": [
  {
   "cell_type": "code",
   "execution_count": 1,
   "metadata": {},
   "outputs": [],
   "source": [
    "import tensorflow as tf"
   ]
  },
  {
   "cell_type": "code",
   "execution_count": 2,
   "metadata": {},
   "outputs": [],
   "source": [
    "hello = tf.constant('Hello, TF')\n",
    "\n",
    "a = tf.constant(13)\n",
    "b = tf.constant(57)\n",
    "c = tf.add(a, b)"
   ]
  },
  {
   "cell_type": "code",
   "execution_count": 3,
   "metadata": {},
   "outputs": [
    {
     "name": "stdout",
     "output_type": "stream",
     "text": [
      "Tensor(\"Const:0\", shape=(), dtype=string)\n"
     ]
    }
   ],
   "source": [
    "print(hello)"
   ]
  },
  {
   "cell_type": "code",
   "execution_count": 4,
   "metadata": {},
   "outputs": [
    {
     "name": "stdout",
     "output_type": "stream",
     "text": [
      "Tensor(\"Add:0\", shape=(), dtype=int32)\n"
     ]
    }
   ],
   "source": [
    "print(c)"
   ]
  },
  {
   "cell_type": "code",
   "execution_count": 5,
   "metadata": {},
   "outputs": [],
   "source": [
    "sess = tf.Session()"
   ]
  },
  {
   "cell_type": "code",
   "execution_count": 6,
   "metadata": {},
   "outputs": [
    {
     "name": "stdout",
     "output_type": "stream",
     "text": [
      "b'Hello, TF'\n"
     ]
    }
   ],
   "source": [
    "print(sess.run(hello))"
   ]
  },
  {
   "cell_type": "code",
   "execution_count": 7,
   "metadata": {},
   "outputs": [
    {
     "name": "stdout",
     "output_type": "stream",
     "text": [
      "[13, 57, 70]\n"
     ]
    }
   ],
   "source": [
    "print(sess.run([a, b, c]))"
   ]
  },
  {
   "cell_type": "code",
   "execution_count": 8,
   "metadata": {},
   "outputs": [],
   "source": [
    "sess.close()"
   ]
  },
  {
   "cell_type": "markdown",
   "metadata": {},
   "source": [
    "# variable"
   ]
  },
  {
   "cell_type": "code",
   "execution_count": 9,
   "metadata": {},
   "outputs": [
    {
     "name": "stdout",
     "output_type": "stream",
     "text": [
      "Tensor(\"Placeholder:0\", shape=(?, 3), dtype=float32)\n"
     ]
    }
   ],
   "source": [
    "X = tf.placeholder(tf.float32, [None, 3])\n",
    "print(X)"
   ]
  },
  {
   "cell_type": "code",
   "execution_count": 10,
   "metadata": {},
   "outputs": [],
   "source": [
    "x_data = [[1, 2, 3], [4, 5, 6]]"
   ]
  },
  {
   "cell_type": "code",
   "execution_count": 11,
   "metadata": {},
   "outputs": [],
   "source": [
    "W = tf.Variable(tf.random_normal([3, 2]))\n",
    "b = tf.Variable(tf.random_normal([2, 1]))"
   ]
  },
  {
   "cell_type": "code",
   "execution_count": 12,
   "metadata": {},
   "outputs": [],
   "source": [
    "expr = tf.matmul(X, W) + b"
   ]
  },
  {
   "cell_type": "code",
   "execution_count": 13,
   "metadata": {},
   "outputs": [],
   "source": [
    "sess = tf.Session()"
   ]
  },
  {
   "cell_type": "code",
   "execution_count": 14,
   "metadata": {},
   "outputs": [],
   "source": [
    "sess.run(tf.global_variables_initializer())"
   ]
  },
  {
   "cell_type": "code",
   "execution_count": 15,
   "metadata": {},
   "outputs": [
    {
     "name": "stdout",
     "output_type": "stream",
     "text": [
      "[[1, 2, 3], [4, 5, 6]]\n"
     ]
    }
   ],
   "source": [
    "print(x_data)"
   ]
  },
  {
   "cell_type": "code",
   "execution_count": 16,
   "metadata": {},
   "outputs": [
    {
     "name": "stdout",
     "output_type": "stream",
     "text": [
      "[[ 0.09364931 -0.22874206]\n",
      " [-0.4007793  -0.1525373 ]\n",
      " [-1.1141466   0.7204591 ]]\n"
     ]
    }
   ],
   "source": [
    "print(sess.run(W))"
   ]
  },
  {
   "cell_type": "code",
   "execution_count": 18,
   "metadata": {},
   "outputs": [
    {
     "name": "stdout",
     "output_type": "stream",
     "text": [
      "[[-0.355939 ]\n",
      " [-1.1527231]]\n"
     ]
    }
   ],
   "source": [
    "print(sess.run(b))"
   ]
  },
  {
   "cell_type": "code",
   "execution_count": 19,
   "metadata": {},
   "outputs": [
    {
     "name": "stdout",
     "output_type": "stream",
     "text": [
      "[[-4.4062877  1.2716217]\n",
      " [-9.466902   1.492377 ]]\n"
     ]
    }
   ],
   "source": [
    "print(sess.run(expr, feed_dict={X: x_data}))"
   ]
  },
  {
   "cell_type": "code",
   "execution_count": 20,
   "metadata": {},
   "outputs": [],
   "source": [
    "sess.close()"
   ]
  },
  {
   "cell_type": "markdown",
   "metadata": {},
   "source": [
    "# Linear Regression"
   ]
  },
  {
   "cell_type": "code",
   "execution_count": 21,
   "metadata": {},
   "outputs": [],
   "source": [
    "x_data = [1, 2, 3]\n",
    "y_data = [1, 2, 3]"
   ]
  },
  {
   "cell_type": "code",
   "execution_count": 22,
   "metadata": {},
   "outputs": [],
   "source": [
    "W = tf.Variable(tf.random_uniform([1], -1.0, 1.0))\n",
    "b = tf.Variable(tf.random_uniform([1], -1.0, 1.0))"
   ]
  },
  {
   "cell_type": "code",
   "execution_count": 24,
   "metadata": {},
   "outputs": [],
   "source": [
    "X = tf.placeholder(tf.float32, name=\"X\")\n",
    "Y = tf.placeholder(tf.float32, name=\"Y\")"
   ]
  },
  {
   "cell_type": "code",
   "execution_count": 25,
   "metadata": {},
   "outputs": [
    {
     "name": "stdout",
     "output_type": "stream",
     "text": [
      "Tensor(\"X:0\", dtype=float32)\n"
     ]
    }
   ],
   "source": [
    "print(X)"
   ]
  },
  {
   "cell_type": "code",
   "execution_count": 26,
   "metadata": {},
   "outputs": [
    {
     "name": "stdout",
     "output_type": "stream",
     "text": [
      "Tensor(\"Y:0\", dtype=float32)\n"
     ]
    }
   ],
   "source": [
    "print(Y)"
   ]
  },
  {
   "cell_type": "code",
   "execution_count": 27,
   "metadata": {},
   "outputs": [],
   "source": [
    "hypothesis = W * X + b"
   ]
  },
  {
   "cell_type": "code",
   "execution_count": 28,
   "metadata": {},
   "outputs": [],
   "source": [
    "cost = tf.reduce_mean(tf.square(hypothesis - Y))"
   ]
  },
  {
   "cell_type": "code",
   "execution_count": 29,
   "metadata": {},
   "outputs": [],
   "source": [
    "optimizer = tf.train.GradientDescentOptimizer(learning_rate=0.1)"
   ]
  },
  {
   "cell_type": "code",
   "execution_count": 30,
   "metadata": {},
   "outputs": [],
   "source": [
    "train_op = optimizer.minimize(cost)"
   ]
  },
  {
   "cell_type": "code",
   "execution_count": 35,
   "metadata": {},
   "outputs": [
    {
     "name": "stdout",
     "output_type": "stream",
     "text": [
      "0 7.482544 [0.72810906] [0.9308659]\n",
      "1 0.19911712 [0.60952765] [0.8534491]\n",
      "2 0.10690264 [0.63258886] [0.8389482]\n",
      "3 0.10083618 [0.6399266] [0.818123]\n",
      "4 0.09603459 [0.64874595] [0.7985278]\n",
      "5 0.091472745 [0.65717196] [0.7793238]\n",
      "6 0.087127686 [0.6654153] [0.76059026]\n",
      "7 0.08298907 [0.6734582] [0.74230605]\n",
      "8 0.07904702 [0.6813081] [0.72446156]\n",
      "9 0.07529219 [0.68896925] [0.70704603]\n",
      "10 0.07171577 [0.6964462] [0.6900491]\n",
      "11 0.06830925 [0.7037434] [0.6734608]\n",
      "12 0.06506451 [0.71086526] [0.65727127]\n",
      "13 0.061973903 [0.7178159] [0.6414709]\n",
      "14 0.059030075 [0.72459936] [0.62605035]\n",
      "15 0.056226093 [0.73121977] [0.61100054]\n",
      "16 0.05355532 [0.7376811] [0.5963125]\n",
      "17 0.051011432 [0.7439871] [0.58197755]\n",
      "18 0.048588324 [0.75014144] [0.5679872]\n",
      "19 0.046280324 [0.75614786] [0.55433315]\n",
      "20 0.04408199 [0.7620099] [0.54100734]\n",
      "21 0.041988056 [0.7677311] [0.5280019]\n",
      "22 0.03999362 [0.77331465] [0.5153091]\n",
      "23 0.038093876 [0.778764] [0.5029214]\n",
      "24 0.036284365 [0.7840824] [0.49083152]\n",
      "25 0.034560826 [0.78927284] [0.47903225]\n",
      "26 0.032919157 [0.79433864] [0.46751666]\n",
      "27 0.0313555 [0.7992826] [0.45627788]\n",
      "28 0.029866084 [0.80410767] [0.44530925]\n",
      "29 0.028447429 [0.80881685] [0.43460435]\n",
      "30 0.027096143 [0.8134127] [0.42415676]\n",
      "31 0.025809057 [0.81789815] [0.4139603]\n",
      "32 0.02458313 [0.8222758] [0.404009]\n",
      "33 0.023415394 [0.8265481] [0.39429688]\n",
      "34 0.022303144 [0.8307178] [0.38481826]\n",
      "35 0.021243734 [0.8347872] [0.37556747]\n",
      "36 0.020234639 [0.8387588] [0.3665391]\n",
      "37 0.019273492 [0.842635] [0.35772777]\n",
      "38 0.01835796 [0.84641784] [0.34912822]\n",
      "39 0.017485952 [0.85010993] [0.34073544]\n",
      "40 0.016655367 [0.85371315] [0.3325444]\n",
      "41 0.015864218 [0.85722977] [0.32455024]\n",
      "42 0.015110656 [0.86066186] [0.3167483]\n",
      "43 0.01439289 [0.86401147] [0.3091339]\n",
      "44 0.013709206 [0.86728054] [0.30170253]\n",
      "45 0.013058023 [0.870471] [0.2944498]\n",
      "46 0.012437754 [0.8735848] [0.28737146]\n",
      "47 0.011846955 [0.87662375] [0.28046325]\n",
      "48 0.011284205 [0.8795896] [0.2737211]\n",
      "49 0.010748215 [0.8824842] [0.26714104]\n",
      "50 0.010237663 [0.88530916] [0.26071915]\n",
      "51 0.009751369 [0.8880663] [0.25445166]\n",
      "52 0.009288161 [0.8907571] [0.24833481]\n",
      "53 0.008846965 [0.8933832] [0.242365]\n",
      "54 0.008426737 [0.89594626] [0.23653874]\n",
      "55 0.008026463 [0.89844763] [0.2308525]\n",
      "56 0.0076451837 [0.9008888] [0.22530292]\n",
      "57 0.007282047 [0.90327144] [0.21988682]\n",
      "58 0.0069361366 [0.90559673] [0.21460089]\n",
      "59 0.006606672 [0.9078661] [0.20944203]\n",
      "60 0.0062928363 [0.91008085] [0.20440716]\n",
      "61 0.00599393 [0.91224253] [0.1994934]\n",
      "62 0.005709211 [0.9143521] [0.1946977]\n",
      "63 0.0054380284 [0.9164111] [0.19001731]\n",
      "64 0.005179717 [0.9184205] [0.18544942]\n",
      "65 0.0049336785 [0.9203816] [0.18099134]\n",
      "66 0.0046993145 [0.9222956] [0.17664042]\n",
      "67 0.004476094 [0.9241635] [0.1723941]\n",
      "68 0.0042634853 [0.9259866] [0.16824988]\n",
      "69 0.0040609636 [0.9277658] [0.16420525]\n",
      "70 0.0038680623 [0.9295023] [0.16025789]\n",
      "71 0.0036843272 [0.931197] [0.15640539]\n",
      "72 0.003509314 [0.93285096] [0.15264551]\n",
      "73 0.0033426161 [0.93446517] [0.14897601]\n",
      "74 0.0031838429 [0.9360406] [0.14539474]\n",
      "75 0.0030326115 [0.93757814] [0.14189957]\n",
      "76 0.0028885587 [0.93907875] [0.13848841]\n",
      "77 0.0027513474 [0.94054323] [0.13515922]\n",
      "78 0.0026206553 [0.9419725] [0.13191009]\n",
      "79 0.0024961778 [0.9433675] [0.12873907]\n",
      "80 0.0023776086 [0.94472885] [0.12564425]\n",
      "81 0.0022646675 [0.94605756] [0.12262387]\n",
      "82 0.0021570974 [0.94735426] [0.11967606]\n",
      "83 0.0020546315 [0.94861984] [0.11679915]\n",
      "84 0.001957035 [0.949855] [0.11399139]\n",
      "85 0.0018640758 [0.9510604] [0.1112511]\n",
      "86 0.0017755282 [0.9522369] [0.1085767]\n",
      "87 0.0016911885 [0.9533851] [0.1059666]\n",
      "88 0.0016108576 [0.95450574] [0.10341924]\n",
      "89 0.0015343382 [0.9555993] [0.10093309]\n",
      "90 0.0014614589 [0.9566667] [0.09850675]\n",
      "91 0.0013920376 [0.9577084] [0.09613873]\n",
      "92 0.0013259179 [0.95872504] [0.09382761]\n",
      "93 0.0012629378 [0.9597173] [0.09157207]\n",
      "94 0.0012029439 [0.9606857] [0.08937075]\n",
      "95 0.001145807 [0.96163076] [0.08722233]\n",
      "96 0.0010913754 [0.96255314] [0.08512557]\n",
      "97 0.001039532 [0.96345323] [0.08307918]\n",
      "98 0.0009901593 [0.9643319] [0.08108206]\n",
      "99 0.0009431211 [0.9651893] [0.07913288]\n",
      "[4.9050794]\n",
      "[11.661405]\n"
     ]
    }
   ],
   "source": [
    "with tf.Session() as sess:\n",
    "    sess.run(tf.global_variables_initializer())\n",
    "    \n",
    "    for step in range(100):\n",
    "        _, cost_val = sess.run([train_op, cost], feed_dict={X: x_data, Y: y_data})\n",
    "        \n",
    "        print(step, cost_val, sess.run(W), sess.run(b))\n",
    "    \n",
    "    print(sess.run(hypothesis, feed_dict={X: 5}))\n",
    "    print(sess.run(hypothesis, feed_dict={X: 12}))"
   ]
  }
 ],
 "metadata": {
  "kernelspec": {
   "display_name": "Python 3",
   "language": "python",
   "name": "python3"
  },
  "language_info": {
   "codemirror_mode": {
    "name": "ipython",
    "version": 3
   },
   "file_extension": ".py",
   "mimetype": "text/x-python",
   "name": "python",
   "nbconvert_exporter": "python",
   "pygments_lexer": "ipython3",
   "version": "3.5.6"
  }
 },
 "nbformat": 4,
 "nbformat_minor": 2
}
